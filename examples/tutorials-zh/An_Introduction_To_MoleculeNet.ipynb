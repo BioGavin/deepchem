{
 "cells": [
  {
   "cell_type": "markdown",
   "metadata": {},
   "source": [
    "# MoleculeNet 介绍\n",
    "\n",
    "DeepChem 最强大的功能之一是它带有可使用的内置数据集。DeepChem 开发者社区维护着 MoleculeNet [1] 数据集套件，它拥有大量不同的科学数据集，供机器学习使用。最初的 MoleculeNet 套件有 17 个数据集，主要集中在分子特性方面。在过去的几年里，MoleculeNet 已经发展成为一个更广泛的科学数据集集合，以促进科学机器学习工具的广泛使用和发展。\n",
    "\n",
    "这些数据集与 DeepChem 套件的其他部分集成，所以你可以通过 `dc.molnet` 子模块的函数方便地访问。在你已经学习过的教程中，你已经看到了加载器的几个例子。MoleculeNet 套件的完整文档可在我们的文档中找到 [2] 。\n",
    "\n",
    "[1] Wu, Zhenqin, et al. \"MoleculeNet: a benchmark for molecular machine learning.\" Chemical science 9.2 (2018): 513-530.\n",
    "\n",
    "[2] https://deepchem.readthedocs.io/en/latest/moleculenet.html\n",
    "\n",
    "## Colab\n",
    "\n",
    "本教程和目录中的其余部分都是在 Google colab 中完成。如果您想在 colab 中打开此笔记本，您可以点击以下链接。\n",
    "\n",
    "[![Open In Colab](https://colab.research.google.com/assets/colab-badge.svg)](https://colab.research.google.com/github/BioGavin/deepchem/blob/master/examples/tutorials-zh/An_Introduction_To_MoleculeNet.ipynb)\n",
    "\n",
    "\n",
    "## 设置\n",
    "\n",
    "首先我们要启动并运行 DeepChem。我们推荐使用 Google Colab 来学习本系列教学，您可以运行以下命令在您的 colab 笔记本上安装 DeepChem。"
   ]
  },
  {
   "cell_type": "code",
   "execution_count": null,
   "metadata": {},
   "outputs": [],
   "source": [
    "!pip install --pre deepchem"
   ]
  },
  {
   "cell_type": "markdown",
   "metadata": {},
   "source": [
    "我们现在可以导入 `deepchem` 包来玩耍。"
   ]
  },
  {
   "cell_type": "code",
   "execution_count": 1,
   "metadata": {},
   "outputs": [
    {
     "data": {
      "text/plain": [
       "'2.4.0-rc1.dev'"
      ]
     },
     "execution_count": 1,
     "metadata": {},
     "output_type": "execute_result"
    }
   ],
   "source": [
    "import deepchem as dc\n",
    "dc.__version__"
   ]
  },
  {
   "cell_type": "markdown",
   "metadata": {},
   "source": [
    "# MoleculeNet 概述\n",
    "\n",
    "在上两个教程中，我们加载了分子溶解度的 Delaney 数据集，让我们再加载一次。"
   ]
  },
  {
   "cell_type": "code",
   "execution_count": 2,
   "metadata": {},
   "outputs": [],
   "source": [
    "tasks, datasets, transformers = dc.molnet.load_delaney(featurizer='GraphConv', splitter='random')"
   ]
  },
  {
   "cell_type": "markdown",
   "metadata": {},
   "source": [
    "注意，我们调用的加载器函数 `dc.molnet.load_delaney` 位于 MoleculeNet 加载器的 `dc.molnet` 子模块中，让我们来看看所有可用的加载器有哪些。"
   ]
  },
  {
   "cell_type": "code",
   "execution_count": 3,
   "metadata": {},
   "outputs": [
    {
     "data": {
      "text/plain": [
       "['load_bace_classification',\n",
       " 'load_bace_regression',\n",
       " 'load_bandgap',\n",
       " 'load_bbbc001',\n",
       " 'load_bbbc002',\n",
       " 'load_bbbp',\n",
       " 'load_cell_counting',\n",
       " 'load_chembl',\n",
       " 'load_chembl25',\n",
       " 'load_clearance',\n",
       " 'load_clintox',\n",
       " 'load_delaney',\n",
       " 'load_factors',\n",
       " 'load_function',\n",
       " 'load_hiv',\n",
       " 'load_hopv',\n",
       " 'load_hppb',\n",
       " 'load_kaggle',\n",
       " 'load_kinase',\n",
       " 'load_lipo',\n",
       " 'load_mp_formation_energy',\n",
       " 'load_mp_metallicity',\n",
       " 'load_muv',\n",
       " 'load_nci',\n",
       " 'load_pcba',\n",
       " 'load_pcba_146',\n",
       " 'load_pcba_2475',\n",
       " 'load_pdbbind',\n",
       " 'load_pdbbind_from_dir',\n",
       " 'load_pdbbind_grid',\n",
       " 'load_perovskite',\n",
       " 'load_ppb',\n",
       " 'load_qm7',\n",
       " 'load_qm7_from_mat',\n",
       " 'load_qm7b_from_mat',\n",
       " 'load_qm8',\n",
       " 'load_qm9',\n",
       " 'load_sampl',\n",
       " 'load_sider',\n",
       " 'load_sweet',\n",
       " 'load_thermosol',\n",
       " 'load_tox21',\n",
       " 'load_toxcast',\n",
       " 'load_uspto',\n",
       " 'load_uv',\n",
       " 'load_zinc15']"
      ]
     },
     "execution_count": 3,
     "metadata": {},
     "output_type": "execute_result"
    }
   ],
   "source": [
    "[method for method in dir(dc.molnet) if \"load_\" in method ]"
   ]
  },
  {
   "cell_type": "markdown",
   "metadata": {},
   "source": [
    "MoleculeNet 加载器集由 DeepChem 社区积极维护，我们致力于向该集合中添加新的数据集。让我们看看今天 MoleculeNet 中有多少个数据集。"
   ]
  },
  {
   "cell_type": "code",
   "execution_count": 4,
   "metadata": {},
   "outputs": [
    {
     "data": {
      "text/plain": [
       "46"
      ]
     },
     "execution_count": 4,
     "metadata": {},
     "output_type": "execute_result"
    }
   ],
   "source": [
    "len([method for method in dir(dc.molnet) if \"load_\" in method ])"
   ]
  },
  {
   "cell_type": "markdown",
   "metadata": {},
   "source": [
    "# MoleculeNet 数据集分类\n",
    "\n",
    "MoleculeNet 中有很多不同的数据集，让我们对不同类型的数据集做一个快速浏览。我们把数据集分成不同的类别，并列出属于这些类别的加载器。关于每个数据集的更多细节可以在https://deepchem.readthedocs.io/en/latest/moleculenet.html 找到，原始的 MoleculeNet 论文 [1] 中整理了所涉及的论文，我们在下文将这些数据集标记为 \"V1\"，所有剩下的标记为 \"V2\" 的数据集则没有记录在之前的论文中。\n",
    "\n",
    "## 量子力学数据集\n",
    "\n",
    "MoleculeNet 的量子力学数据集包含各种量子力学性质预测任务，目前的量子力学数据集包括 QM7、QM7b、QM8、QM9，相关的加载器有\n",
    "\n",
    "- [`dc.molnet.load_qm7`](https://deepchem.readthedocs.io/en/latest/moleculenet.html#deepchem.molnet.load_qm7): V1\n",
    "- [`dc.molnet.load_qm7b_from_mat`](https://deepchem.readthedocs.io/en/latest/moleculenet.html#deepchem.molnet.load_qm7): V1\n",
    "- [`dc.molnet.load_qm8`](https://deepchem.readthedocs.io/en/latest/moleculenet.html#deepchem.molnet.load_qm8): V1\n",
    "- [`dc.molnet.load_qm9`](https://deepchem.readthedocs.io/en/latest/moleculenet.html#deepchem.molnet.load_qm9): V1\n",
    "\n",
    "## 物理化学数据集\n",
    "\n",
    "物理化学数据集包含预测分子各种物理特性的任务。\n",
    "\n",
    "- [`dc.molnet.load_delaney`](https://deepchem.readthedocs.io/en/latest/moleculenet.html#deepchem.molnet.load_delaney): V1. 这个数据集在原论文中也被称为 ESOL。\n",
    "- [`dc.molnet.load_sampl`](https://deepchem.readthedocs.io/en/latest/moleculenet.html#deepchem.molnet.load_sampl): V1. 这个数据集在原论文中也被称为 FreeSolv。\n",
    "- [`dc.molnet.load_lipo`](https://deepchem.readthedocs.io/en/latest/moleculenet.html#deepchem.molnet.load_lipo): V1. 这个数据集在原论文中也被称为 Lipophilicity。\n",
    "- [`dc.molnet.load_thermosol`](https://deepchem.readthedocs.io/en/latest/moleculenet.html#deepchem.molnet.load_thermosol): V2.\n",
    "- [`dc.molnet.load_hppb`](https://deepchem.readthedocs.io/en/latest/moleculenet.html#deepchem.molnet.load_hppb): V2.\n",
    "- [`dc.molnet.load_hopv`](https://deepchem.readthedocs.io/en/latest/moleculenet.html#deepchem.molnet.load_hopv): V2. 这个数据集来自最近的一份出版物 [3]。\n",
    "\n",
    "## 化学反应数据集\n",
    "\n",
    "这些数据集包含化学反应数据集，用于计算机模拟逆合成或正合成。\n",
    "\n",
    "- [`dc.molnet.load_uspto`](https://deepchem.readthedocs.io/en/latest/moleculenet.html#deepchem.molnet.load_uspto)\n",
    "\n",
    "## 生物化学/生物物理数据集\n",
    "\n",
    "这些数据集来自于各种生物化学/生物物理数据集，这些数据集测量化合物与蛋白质的结合亲和力等。\n",
    "\n",
    "- [`dc.molnet.load_pcba`](https://deepchem.readthedocs.io/en/latest/moleculenet.html#deepchem.molnet.load_pcba): V1\n",
    "- [`dc.molnet.load_nci`](https://deepchem.readthedocs.io/en/latest/moleculenet.html#deepchem.molnet.load_nci): V2.\n",
    "- [`dc.molnet.load_muv`](https://deepchem.readthedocs.io/en/latest/moleculenet.html#deepchem.molnet.load_muv): V1\n",
    "- [`dc.molnet.load_hiv`](https://deepchem.readthedocs.io/en/latest/moleculenet.html#deepchem.molnet.load_hiv): V1\n",
    "- [`dc.molnet.load_ppb`](https://deepchem.readthedocs.io/en/latest/moleculenet.html#ppb-datasets): V2.\n",
    "- [`dc.molnet.load_bace_classification`](https://deepchem.readthedocs.io/en/latest/moleculenet.html#deepchem.molnet.load_bace_classification): V1. 这个加载器加载了 MoleculeNet 原始论文中 BACE 数据集的分类任务。\n",
    "- [`dc.molnet.load_bace_regression`](https://deepchem.readthedocs.io/en/latest/moleculenet.html#deepchem.molnet.load_bace_regression): V1. 这个加载器加载了 MoleculeNet 原始论文中 BACE 数据集的回归任务。\n",
    "- [`dc.molnet.load_kaggle`](https://deepchem.readthedocs.io/en/latest/moleculenet.html#deepchem.molnet.load_kaggle): V2. 这个数据集来自默克公司的药物发现 Kaggle 竞赛，详细内容见 [4] 。\n",
    "- [`dc.molnet.load_factors`](https://deepchem.readthedocs.io/en/latest/moleculenet.html#deepchem.molnet.load_factors): V2. 这个数据集来自 [4] 。\n",
    "- [`dc.molnet.load_uv`](https://deepchem.readthedocs.io/en/latest/moleculenet.html#deepchem.molnet.load_uv): V2. 这个数据集来自 [4] 。\n",
    "- [`dc.molnet.load_kinase`](https://deepchem.readthedocs.io/en/latest/moleculenet.html#deepchem.molnet.load_kinase): V2. 这个数据集来自 [4] 。\n",
    "\n",
    "## 分子目录数据集\n",
    "\n",
    "这些数据集提供了分子数据集，除了原始的 SMILES 公式或结构之外，没有任何相关的属性。这些类型的数据集对生成模型的任务很有用。\n",
    "\n",
    "- [`dc.molnet.load_zinc15`](https://deepchem.readthedocs.io/en/latest/moleculenet.html#deepchem.molnet.load_zinc15): V2\n",
    "- [`dc.molnet.load_chembl`](https://deepchem.readthedocs.io/en/latest/moleculenet.html#deepchem.molnet.load_chembl): V2\n",
    "- [`dc.molnet.load_chembl25`](https://deepchem.readthedocs.io/en/latest/moleculenet.html#chembl25-datasets): V2\n",
    "\n",
    "## 生理学数据集\n",
    "\n",
    "这些数据集测量分子与人类患者作用的生理特性。\n",
    "\n",
    "- [`dc.molnet.load_bbbp`](https://deepchem.readthedocs.io/en/latest/moleculenet.html#deepchem.molnet.load_bbbp): V1\n",
    "- [`dc.molnet.load_tox21`](https://deepchem.readthedocs.io/en/latest/moleculenet.html#deepchem.molnet.load_tox21): V1\n",
    "- [`dc.molnet.load_toxcast`](https://deepchem.readthedocs.io/en/latest/moleculenet.html#deepchem.molnet.load_toxcast): V1\n",
    "- [`dc.molnet.load_sider`](https://deepchem.readthedocs.io/en/latest/moleculenet.html#deepchem.molnet.load_sider): V1\n",
    "- [`dc.molnet.load_clintox`](https://deepchem.readthedocs.io/en/latest/moleculenet.html#deepchem.molnet.load_clintox): V1\n",
    "- [`dc.molnet.load_clearance`](https://deepchem.readthedocs.io/en/latest/moleculenet.html#deepchem.molnet.load_clearance): V2.\n",
    "\n",
    "## 结构生物学数据集\n",
    "\n",
    "这些数据集包含了大分子的三维结构和相关属性。\n",
    "\n",
    "- [`dc.molnet.load_pdbbind`](https://deepchem.readthedocs.io/en/latest/moleculenet.html#deepchem.molnet.load_pdbbind): V1\n",
    "\n",
    "\n",
    "## 显微镜数据集\n",
    "\n",
    "这些数据集包含显微镜图像数据集，通常是细胞系的。这些数据集不在 MoleculeNet 的原始论文中。\n",
    "\n",
    "- [`dc.molnet.load_bbbc001`](https://deepchem.readthedocs.io/en/latest/moleculenet.html#deepchem.molnet.load_bbbc001): V2\n",
    "- [`dc.molnet.load_bbbc002`](https://deepchem.readthedocs.io/en/latest/moleculenet.html#deepchem.molnet.load_bbbc002): V2\n",
    "- [`dc.molnet.load_cell_counting`](https://deepchem.readthedocs.io/en/latest/moleculenet.html#cell-counting-datasets): V2\n",
    "\n",
    "## 材料属性数据集\n",
    "\n",
    "这些数据集计算了各种材料的特性。\n",
    "\n",
    "- [`dc.molnet.load_bandgap`](https://deepchem.readthedocs.io/en/latest/moleculenet.html#deepchem.molnet.load_bandgap): V2\n",
    "- [`dc.molnet.load_perovskite`](https://deepchem.readthedocs.io/en/latest/moleculenet.html#deepchem.molnet.load_perovskite): V2\n",
    "- [`dc.molnet.load_mp_formation_energy`](https://deepchem.readthedocs.io/en/latest/moleculenet.html#deepchem.molnet.load_mp_formation_energy): V2\n",
    "- [`dc.molnet.load_mp_metallicity`](https://deepchem.readthedocs.io/en/latest/moleculenet.html#deepchem.molnet.load_mp_metallicity): V2\n",
    "\n",
    "\n",
    "[3] Lopez, Steven A., et al. \"The Harvard organic photovoltaic dataset.\" Scientific data 3.1 (2016): 1-7.\n",
    "\n",
    "[4] Ramsundar, Bharath, et al. \"Is multitask deep learning practical for pharma?.\" Journal of chemical information and modeling 57.8 (2017): 2068-2076."
   ]
  },
  {
   "cell_type": "markdown",
   "metadata": {},
   "source": [
    "# MoleculeNet 加载器详解"
   ]
  },
  {
   "cell_type": "markdown",
   "metadata": {},
   "source": [
    "所有 MoleculeNet 加载器函数采用 `dc.molnet.load_X` 的形式。加载器函数返回一个参数元组 `(tasks, datasets, transformers)` 。我们来看一下每一个返回值，并解释我们得到的东西。\n",
    "\n",
    "1. `tasks`: 这是一个任务名称的列表。MoleculeNet 中的许多数据集是 \"多任务\"，也就是说，一个给定的数据点有多个与之相关的标签，这些标签对应于与该数据点相关的不同测量或数值。\n",
    "2. `datasets`: 这个字段是包含三个元素 `(training, valid, test)` 的元组，他们都是 `dc.data.Dataset` 对象。这些对象对应于这个 MoleculeNet 数据集的训练集、验证集和测试集。\n",
    "3. `transformers`: 这个字段是在数据处理过程中应用于该数据集的 `dc.trans.Transformer` 对象列表。\n",
    "\n",
    "这看起来有点抽象，所以让我们看看我们上面调用的 `dc.molnet.load_delaney` 函数的每个字段，让我们从 `tasks` 开始。"
   ]
  },
  {
   "cell_type": "code",
   "execution_count": 5,
   "metadata": {},
   "outputs": [
    {
     "data": {
      "text/plain": [
       "['measured log solubility in mols per litre']"
      ]
     },
     "execution_count": 5,
     "metadata": {},
     "output_type": "execute_result"
    }
   ],
   "source": [
    "tasks"
   ]
  },
  {
   "cell_type": "markdown",
   "metadata": {},
   "source": [
    "在这个数据集中我们有一个任务，对应于测量的对数溶解度（mol/L）。现在让我们来看看 `datasets`。"
   ]
  },
  {
   "cell_type": "code",
   "execution_count": 6,
   "metadata": {},
   "outputs": [
    {
     "data": {
      "text/plain": [
       "(<DiskDataset X.shape: (902,), y.shape: (902, 1), w.shape: (902, 1), ids: ['CCC(C)Cl' 'O=C1NC(=O)NC(=O)C1(C(C)C)CC=C' 'Oc1ccccn1' ...\n",
       "  'CCCCCCCC(=O)OCC' 'O=Cc1ccccc1' 'CCCC=C(CC)C=O'], task_names: ['measured log solubility in mols per litre']>,\n",
       " <DiskDataset X.shape: (113,), y.shape: (113, 1), w.shape: (113, 1), ids: ['CSc1nc(nc(n1)N(C)C)N(C)C' 'CC#N' 'CCCCCCCC#C' ... 'ClCCBr'\n",
       "  'CCN(CC)C(=O)CSc1ccc(Cl)nn1' 'CC(=O)OC3CCC4C2CCC1=CC(=O)CCC1(C)C2CCC34C '], task_names: ['measured log solubility in mols per litre']>,\n",
       " <DiskDataset X.shape: (113,), y.shape: (113, 1), w.shape: (113, 1), ids: ['CCCCc1c(C)nc(nc1O)N(C)C '\n",
       "  'Cc3cc2nc1c(=O)[nH]c(=O)nc1n(CC(O)C(O)C(O)CO)c2cc3C'\n",
       "  'CSc1nc(NC(C)C)nc(NC(C)C)n1' ... 'O=c1[nH]cnc2[nH]ncc12 '\n",
       "  'CC(=C)C1CC=C(C)C(=O)C1' 'OC(C(=O)c1ccccc1)c2ccccc2'], task_names: ['measured log solubility in mols per litre']>)"
      ]
     },
     "execution_count": 6,
     "metadata": {},
     "output_type": "execute_result"
    }
   ],
   "source": [
    "datasets"
   ]
  },
  {
   "cell_type": "markdown",
   "metadata": {},
   "source": [
    "正如我们之前提到的，我们看到 `datasets` 是 包含 3 个数据集的一个元组，让我们把它们拆开看看。"
   ]
  },
  {
   "cell_type": "code",
   "execution_count": 7,
   "metadata": {},
   "outputs": [],
   "source": [
    "train, valid, test = datasets"
   ]
  },
  {
   "cell_type": "code",
   "execution_count": 8,
   "metadata": {},
   "outputs": [
    {
     "data": {
      "text/plain": [
       "<DiskDataset X.shape: (902,), y.shape: (902, 1), w.shape: (902, 1), ids: ['CCC(C)Cl' 'O=C1NC(=O)NC(=O)C1(C(C)C)CC=C' 'Oc1ccccn1' ...\n",
       " 'CCCCCCCC(=O)OCC' 'O=Cc1ccccc1' 'CCCC=C(CC)C=O'], task_names: ['measured log solubility in mols per litre']>"
      ]
     },
     "execution_count": 8,
     "metadata": {},
     "output_type": "execute_result"
    }
   ],
   "source": [
    "train"
   ]
  },
  {
   "cell_type": "code",
   "execution_count": 9,
   "metadata": {},
   "outputs": [
    {
     "data": {
      "text/plain": [
       "<DiskDataset X.shape: (113,), y.shape: (113, 1), w.shape: (113, 1), ids: ['CSc1nc(nc(n1)N(C)C)N(C)C' 'CC#N' 'CCCCCCCC#C' ... 'ClCCBr'\n",
       " 'CCN(CC)C(=O)CSc1ccc(Cl)nn1' 'CC(=O)OC3CCC4C2CCC1=CC(=O)CCC1(C)C2CCC34C '], task_names: ['measured log solubility in mols per litre']>"
      ]
     },
     "execution_count": 9,
     "metadata": {},
     "output_type": "execute_result"
    }
   ],
   "source": [
    "valid"
   ]
  },
  {
   "cell_type": "code",
   "execution_count": 10,
   "metadata": {},
   "outputs": [
    {
     "data": {
      "text/plain": [
       "<DiskDataset X.shape: (113,), y.shape: (113, 1), w.shape: (113, 1), ids: ['CCCCc1c(C)nc(nc1O)N(C)C '\n",
       " 'Cc3cc2nc1c(=O)[nH]c(=O)nc1n(CC(O)C(O)C(O)CO)c2cc3C'\n",
       " 'CSc1nc(NC(C)C)nc(NC(C)C)n1' ... 'O=c1[nH]cnc2[nH]ncc12 '\n",
       " 'CC(=C)C1CC=C(C)C(=O)C1' 'OC(C(=O)c1ccccc1)c2ccccc2'], task_names: ['measured log solubility in mols per litre']>"
      ]
     },
     "execution_count": 10,
     "metadata": {},
     "output_type": "execute_result"
    }
   ],
   "source": [
    "test"
   ]
  },
  {
   "cell_type": "markdown",
   "metadata": {},
   "source": [
    "让我们看一下训练数据集中的一个数据点。"
   ]
  },
  {
   "cell_type": "code",
   "execution_count": 11,
   "metadata": {},
   "outputs": [
    {
     "data": {
      "text/plain": [
       "<deepchem.feat.mol_graphs.ConvMol at 0x7fe1ef601438>"
      ]
     },
     "execution_count": 11,
     "metadata": {},
     "output_type": "execute_result"
    }
   ],
   "source": [
    "train.X[0]"
   ]
  },
  {
   "cell_type": "markdown",
   "metadata": {},
   "source": [
    "注意这是一个由 `dc.feat.ConvMolFeaturizer` 产生的 `dc.feat.mol_graphs.ConvMol` 对象。关于如何控制 featurization 的选择，我们后面会进一步介绍。最后让我们来看看 \"transformers\" 字段。"
   ]
  },
  {
   "cell_type": "code",
   "execution_count": 12,
   "metadata": {},
   "outputs": [
    {
     "data": {
      "text/plain": [
       "[<deepchem.trans.transformers.NormalizationTransformer at 0x7fe2029bdfd0>]"
      ]
     },
     "execution_count": 12,
     "metadata": {},
     "output_type": "execute_result"
    }
   ],
   "source": [
    "transformers"
   ]
  },
  {
   "cell_type": "markdown",
   "metadata": {},
   "source": [
    "这里我们看到应用了一个转化器，即 `dc.trans.NormalizationTransformer`。\n",
    "\n",
    "在阅读完这段描述后，你可能想知道在代码背后做了哪些选择。正如我们之前简单提到的，数据集可以用不同的 \"featurizer\" 来处理，我们能在这里控制特征化的选择吗？此外，源数据集是如何被分成训练、验证、测试三个不同的数据集的？\n",
    "\n",
    "你可以使用 \"featurizer\" 和 \"splitter\" 关键字参数并传入不同的字符串，\"featurizer\" 的常见选择是 \"ECFP\"、\"GraphConv\"、\"Weave\" 和\"smiles2img\"，分别对应于 `dc.feat.CircularFingerprint`、`dc.feat.ConvMolFeaturizer`、`dc.feat.WeaveFeaturizer` 和 `dc.feat.SmilesToImage` 特征生成器。\"splitter\" 常见的可能选择是 \"None\"、\"index\"、\"random\"、\"scaffold\" 和 \"stratified\"，对应于不分割、`dc.splits.IndexSplitter`、`dc.splits.RandomSplitter` 和 `dc.splits.SingletaskStratifiedSplitter` 分割器。我们还没有过多地谈论分割器，但从直觉上讲，它们是一种基于不同标准分割数据集的方法，我们将在未来的教程中详细介绍。\n",
    "\n",
    "你也可以传入任何 `Featurizer` 或 `Splitter` 对象，而不是一个字符串，这是非常有用的，例如，当一个 \"Featurizer\" 有构造参数时，你可以用来定制它的作用。"
   ]
  },
  {
   "cell_type": "code",
   "execution_count": 13,
   "metadata": {},
   "outputs": [],
   "source": [
    "tasks, datasets, transformers = dc.molnet.load_delaney(featurizer=\"ECFP\", splitter=\"scaffold\")"
   ]
  },
  {
   "cell_type": "code",
   "execution_count": 14,
   "metadata": {},
   "outputs": [],
   "source": [
    "(train, valid, test) = datasets"
   ]
  },
  {
   "cell_type": "code",
   "execution_count": 15,
   "metadata": {},
   "outputs": [
    {
     "data": {
      "text/plain": [
       "<DiskDataset X.shape: (902, 1024), y.shape: (902, 1), w.shape: (902, 1), ids: ['CC(C)=CCCC(C)=CC(=O)' 'CCCC=C' 'CCCCCCCCCCCCCC' ...\n",
       " 'Nc2cccc3nc1ccccc1cc23 ' 'C1CCCCCC1' 'OC1CCCCCC1'], task_names: ['measured log solubility in mols per litre']>"
      ]
     },
     "execution_count": 15,
     "metadata": {},
     "output_type": "execute_result"
    }
   ],
   "source": [
    "train"
   ]
  },
  {
   "cell_type": "code",
   "execution_count": 16,
   "metadata": {},
   "outputs": [
    {
     "data": {
      "text/plain": [
       "array([0., 0., 0., ..., 0., 0., 0.])"
      ]
     },
     "execution_count": 16,
     "metadata": {},
     "output_type": "execute_result"
    }
   ],
   "source": [
    "train.X[0]"
   ]
  },
  {
   "cell_type": "markdown",
   "metadata": {},
   "source": [
    "注意，与之前的调用不同，这里是由 `dc.feat.CircularFingerprint` 产生的numpy数组，而不是由 `dc.feat.ConvMolFeaturizer` 产生的 `ConvMol`对象。\n",
    "\n",
    "自己试一试吧，试着调用 MoleculeNet 加载一些其他的数据集，并尝试使用不同的 \"featurizer/split\" 选项，看看会发生什么。"
   ]
  },
  {
   "cell_type": "markdown",
   "metadata": {},
   "source": [
    "# 恭喜！是时候加入社区了！\n",
    "\n",
    "恭喜您完成本教程笔记本！如果您喜欢本教程并希望继续使用 DeepChem，我们鼓励您完成本系列的其余教程。您还可以通过以下方式帮助 DeepChem 社区：\n",
    "\n",
    "## 在 [GitHub](https://github.com/deepchem/deepchem) 上为 DeepChem 点亮小星星\n",
    "这有助于大家建立对 DeepChem 项目和我们正在尝试构建的开源药物发现工具的共识。\n",
    "\n",
    "## 加入 DeepChem Gitter\n",
    "DeepChem [Gitter](https://gitter.im/deepchem/Lobby) 聚集了许多对生命科学深度学习感兴趣的科学家、开发人员和爱好者，欢迎加入！"
   ]
  }
 ],
 "metadata": {
  "kernelspec": {
   "display_name": "Python 3",
   "language": "python",
   "name": "python3"
  },
  "language_info": {
   "codemirror_mode": {
    "name": "ipython",
    "version": 3
   },
   "file_extension": ".py",
   "mimetype": "text/x-python",
   "name": "python",
   "nbconvert_exporter": "python",
   "pygments_lexer": "ipython3",
   "version": "3.7.6"
  }
 },
 "nbformat": 4,
 "nbformat_minor": 4
}