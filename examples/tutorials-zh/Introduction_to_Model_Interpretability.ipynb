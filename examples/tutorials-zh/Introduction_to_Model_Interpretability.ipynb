{
 "cells": [
  {
   "cell_type": "markdown",
   "metadata": {
    "colab_type": "text",
    "id": "6NGHK1xmkP1i",
    "pycharm": {
     "name": "#%% md\n"
    }
   },
   "source": [
    "#  Molecular Attention Transformer 的介绍\n",
    "\n",
    "在本系列教程的前几节中，你已经学了如何用DeepChem在各种应用中训练模型。但我们还没有真正研究过模型的可解释性问题。\n",
    "\n",
    "很多时候，在建模时我们会被问到这样的问题--这个模型是如何工作的？ 我们为什么要相信这个模型？ 作为一个数据科学家，我的回答通常是：\"因为我们已经严格证明了模型在测试集上的性能，而测试集的分割对于现实世界来说是真实的\"。但是很多时候，这并不足以说服领域专家。\n",
    "\n",
    "[LIME](https://homes.cs.washington.edu/~marcotcr/blog/lime/) 是一个可以帮助解决这个问题的工具。 它使用特征空间的局部扰动来确定特征的重要性。在本教程中，你将学习如何与DeepChem一起使用LIME来解释我们的模型正在学习什么。\n",
    "\n",
    "![Selection_110.png](https://github.com/deepchem/deepchem/blob/master/examples/tutorials/assets/lime_dog.png?raw=1)\n",
    "\n",
    "那么，如果这个工具能以人类可理解的方式对图像进行处理，它能在分子上发挥作用吗？ 在本教程中，你将学习如何使用LIME对任何一个固定长度的特征化模型进行模型的解释。\n",
    "\n",
    "## Colab\n",
    "\n",
    "本教程和本序列的其他内容都是在Google colab中完成的。如果你想在colab中打开这个笔记本，你可以使用以下链接。\n",
    "\n",
    "[![Open In Colab](https://colab.research.google.com/assets/colab-badge.svg)](https://colab.research.google.com/github/deepchem/deepchem/blob/master/examples/tutorials/Introduction_to_Model_Interpretability.ipynb)\n",
    "\n"
   ]
  },
  {
   "cell_type": "markdown",
   "source": [
    "#  模型可解释性介绍"
   ],
   "metadata": {
    "collapsed": false
   }
  },
  {
   "cell_type": "code",
   "execution_count": 7,
   "metadata": {
    "colab": {
     "base_uri": "https://localhost:8080/",
     "height": 361
    },
    "colab_type": "code",
    "id": "TBPgOmcwArax",
    "outputId": "0de4ff47-9ae3-45f7-db2d-f79f9b22c337"
   },
   "outputs": [
    {
     "name": "stdout",
     "output_type": "stream",
     "text": [
      "Looking in indexes: https://pypi.tuna.tsinghua.edu.cn/simple\r\n",
      "Requirement already satisfied: deepchem in /Users/hehe/opt/miniconda3/envs/python3.7/lib/python3.7/site-packages (2.6.1)\r\n",
      "Requirement already satisfied: scipy in /Users/hehe/opt/miniconda3/envs/python3.7/lib/python3.7/site-packages (from deepchem) (1.7.3)\r\n",
      "Requirement already satisfied: pandas in /Users/hehe/opt/miniconda3/envs/python3.7/lib/python3.7/site-packages (from deepchem) (1.3.5)\r\n",
      "Requirement already satisfied: joblib in /Users/hehe/opt/miniconda3/envs/python3.7/lib/python3.7/site-packages (from deepchem) (1.1.0)\r\n",
      "Requirement already satisfied: rdkit-pypi in /Users/hehe/opt/miniconda3/envs/python3.7/lib/python3.7/site-packages (from deepchem) (2021.9.4)\r\n",
      "Requirement already satisfied: numpy>=1.21 in /Users/hehe/opt/miniconda3/envs/python3.7/lib/python3.7/site-packages (from deepchem) (1.21.5)\r\n",
      "Requirement already satisfied: scikit-learn in /Users/hehe/opt/miniconda3/envs/python3.7/lib/python3.7/site-packages (from deepchem) (1.0.2)\r\n",
      "Requirement already satisfied: pytz>=2017.3 in /Users/hehe/opt/miniconda3/envs/python3.7/lib/python3.7/site-packages (from pandas->deepchem) (2021.3)\r\n",
      "Requirement already satisfied: python-dateutil>=2.7.3 in /Users/hehe/opt/miniconda3/envs/python3.7/lib/python3.7/site-packages (from pandas->deepchem) (2.8.2)\r\n",
      "Requirement already satisfied: six>=1.5 in /Users/hehe/opt/miniconda3/envs/python3.7/lib/python3.7/site-packages (from python-dateutil>=2.7.3->pandas->deepchem) (1.16.0)\r\n",
      "Requirement already satisfied: Pillow in /Users/hehe/opt/miniconda3/envs/python3.7/lib/python3.7/site-packages (from rdkit-pypi->deepchem) (9.0.1)\r\n",
      "Requirement already satisfied: threadpoolctl>=2.0.0 in /Users/hehe/opt/miniconda3/envs/python3.7/lib/python3.7/site-packages (from scikit-learn->deepchem) (3.1.0)\r\n"
     ]
    },
    {
     "data": {
      "text/plain": "'2.6.1.dev'"
     },
     "execution_count": 7,
     "metadata": {},
     "output_type": "execute_result"
    }
   ],
   "source": [
    "!pip install --pre deepchem\n",
    "import deepchem\n",
    "deepchem.__version__"
   ]
  },
  {
   "cell_type": "markdown",
   "metadata": {
    "colab_type": "text",
    "id": "1zuqJlT-kP1p"
   },
   "source": [
    "## 模型的生成\n",
    "\n",
    "让我们首先加载具有ECFP(Extended Connectivity Fingerprint)特征化的Tox21数据集。回顾一下这种特征化的工作方式:它识别每个分子中的小片段，然后将输出向量的元素设置为1，以表示哪些片段存在于某个特定的分子中。"
   ]
  },
  {
   "cell_type": "code",
   "execution_count": 8,
   "metadata": {
    "colab": {
     "base_uri": "https://localhost:8080/",
     "height": 88
    },
    "colab_type": "code",
    "id": "57IdQLKOkP1q",
    "outputId": "f07c2d17-05bc-4d45-eabc-8595f8cb5935"
   },
   "outputs": [],
   "source": [
    "import deepchem as dc\n",
    "n_features = 1024\n",
    "tasks, datasets, transformers = dc.molnet.load_tox21(featurization='ecfp')\n",
    "train_dataset, valid_dataset, test_dataset = datasets"
   ]
  },
  {
   "cell_type": "markdown",
   "metadata": {
    "colab_type": "text",
    "id": "bOA0VkCskP1u"
   },
   "source": [
    "现在让我们训练一个模型来处理这个数据集。和以前的教程一样，我们将使用一个多任务分类器(MultitaskClassifier)，它是一堆简单的密集层。"
   ]
  },
  {
   "cell_type": "code",
   "execution_count": 9,
   "metadata": {
    "colab": {},
    "colab_type": "code",
    "id": "u0ZLMRiHkP1v"
   },
   "outputs": [
    {
     "ename": "AttributeError",
     "evalue": "module 'deepchem.models' has no attribute 'MultitaskClassifier'",
     "output_type": "error",
     "traceback": [
      "\u001B[0;31m---------------------------------------------------------------------------\u001B[0m",
      "\u001B[0;31mAttributeError\u001B[0m                            Traceback (most recent call last)",
      "\u001B[0;32m/var/folders/jn/9w7jb7xs59q_4h4hy8w5lchh0000gn/T/ipykernel_39539/1779509568.py\u001B[0m in \u001B[0;36m<module>\u001B[0;34m\u001B[0m\n\u001B[1;32m      1\u001B[0m \u001B[0mn_tasks\u001B[0m \u001B[0;34m=\u001B[0m \u001B[0mlen\u001B[0m\u001B[0;34m(\u001B[0m\u001B[0mtasks\u001B[0m\u001B[0;34m)\u001B[0m\u001B[0;34m\u001B[0m\u001B[0;34m\u001B[0m\u001B[0m\n\u001B[1;32m      2\u001B[0m \u001B[0mn_features\u001B[0m \u001B[0;34m=\u001B[0m \u001B[0mtrain_dataset\u001B[0m\u001B[0;34m.\u001B[0m\u001B[0mget_data_shape\u001B[0m\u001B[0;34m(\u001B[0m\u001B[0;34m)\u001B[0m\u001B[0;34m[\u001B[0m\u001B[0;36m0\u001B[0m\u001B[0;34m]\u001B[0m\u001B[0;34m\u001B[0m\u001B[0;34m\u001B[0m\u001B[0m\n\u001B[0;32m----> 3\u001B[0;31m \u001B[0mmodel\u001B[0m \u001B[0;34m=\u001B[0m \u001B[0mdc\u001B[0m\u001B[0;34m.\u001B[0m\u001B[0mmodels\u001B[0m\u001B[0;34m.\u001B[0m\u001B[0mMultitaskClassifier\u001B[0m\u001B[0;34m(\u001B[0m\u001B[0mn_tasks\u001B[0m\u001B[0;34m,\u001B[0m \u001B[0mn_features\u001B[0m\u001B[0;34m)\u001B[0m\u001B[0;34m\u001B[0m\u001B[0;34m\u001B[0m\u001B[0m\n\u001B[0m\u001B[1;32m      4\u001B[0m \u001B[0mmodel\u001B[0m\u001B[0;34m.\u001B[0m\u001B[0mfit\u001B[0m\u001B[0;34m(\u001B[0m\u001B[0mtrain_dataset\u001B[0m\u001B[0;34m,\u001B[0m \u001B[0mnb_epoch\u001B[0m\u001B[0;34m=\u001B[0m\u001B[0;36m50\u001B[0m\u001B[0;34m)\u001B[0m\u001B[0;34m\u001B[0m\u001B[0;34m\u001B[0m\u001B[0m\n",
      "\u001B[0;31mAttributeError\u001B[0m: module 'deepchem.models' has no attribute 'MultitaskClassifier'"
     ]
    }
   ],
   "source": [
    "n_tasks = len(tasks)\n",
    "n_features = train_dataset.get_data_shape()[0]\n",
    "model = dc.models.MultitaskClassifier(n_tasks, n_features)\n",
    "model.fit(train_dataset, nb_epoch=50)"
   ]
  },
  {
   "cell_type": "markdown",
   "metadata": {
    "colab_type": "text",
    "id": "IJc49NbMkP11"
   },
   "source": [
    "我们在训练集和验证集上评估这个模型，以获得对其准确性的一些基本了解。我们将使用ROC-AUC作为我们选择的指标。"
   ]
  },
  {
   "cell_type": "code",
   "execution_count": null,
   "metadata": {
    "colab": {
     "base_uri": "https://localhost:8080/",
     "height": 510
    },
    "colab_type": "code",
    "id": "5TWg2RelkP12",
    "outputId": "a931d968-43b4-41fb-97e7-438db8ad2e38"
   },
   "outputs": [],
   "source": [
    "import numpy as np\n",
    "metric = dc.metrics.Metric(dc.metrics.roc_auc_score, np.mean)\n",
    "print(\"Train scores\")\n",
    "print(model.evaluate(train_dataset, [metric], transformers))\n",
    "print(\"Validation scores\")\n",
    "print(model.evaluate(valid_dataset, [metric], transformers))"
   ]
  },
  {
   "cell_type": "markdown",
   "metadata": {
    "colab_type": "text",
    "id": "xMBwqFmDkP15"
   },
   "source": [
    "## 使用 LIME\n",
    "\n",
    "该模型似乎在预测哪些分子有毒方面做得很合理，但它是如何工作的？ 当它预测一个特定的分子有毒或无毒时，分子的哪些方面导致了这种预测？ 这就是*可解释性*的本质：学习为什么一个输入会导致某种预测的发生。\n",
    "\n",
    "LIME(Local Interpretable Model-Agnostic Explanations)是一个解决这一问题的工具。这个名字是 \"局部可解释模型-不可知论解释 \"的简称。 它可以在任何具有固定大小的输入向量的问题上工作。 它通过计算各个特征的概率分布和特征间的协方差来工作。 这使得它能够在样本附近构建一个局部线性模型，描述输入的局部扰动会对输出产生最大影响。 也就是说，在分子中添加或删除哪些片段最有可能改变有毒和无毒之间的预测结果？\n",
    "\n",
    "首先，我们需要安装lime。幸运的是，lime在`pip`上很方便，所以你可以从这个Jupyter笔记本中安装它。"
   ]
  },
  {
   "cell_type": "code",
   "execution_count": null,
   "metadata": {
    "colab": {
     "base_uri": "https://localhost:8080/",
     "height": 496
    },
    "colab_type": "code",
    "id": "WV50QNwSkP15",
    "outputId": "f6478c4a-2906-492f-b6d1-125a5d3ca8ab"
   },
   "outputs": [],
   "source": [
    "!pip install lime"
   ]
  },
  {
   "cell_type": "markdown",
   "metadata": {
    "colab_type": "text",
    "id": "E9ksPtOskP18"
   },
   "source": [
    "现在我们已经安装了lime，我们要为`lime`创建一个`Explainer`对象。这个对象将接收训练数据集和特征名称。我们使用ECFP作为我们的特征。我们的特征没自然的名字，所以我们只是对它们进行数字编号。另一方面，我们的标签也有自然的名字。回顾一下，Tox21是用于毒性检测的；所以我们把0称为 \"无毒\"，1称为 \"有毒\"。"
   ]
  },
  {
   "cell_type": "code",
   "execution_count": null,
   "metadata": {
    "colab": {},
    "colab_type": "code",
    "id": "0yO0QUHlkP18"
   },
   "outputs": [],
   "source": [
    "from lime import lime_tabular\n",
    "feature_names = [\"fp_%s\"  % x for x in range(1024)]\n",
    "explainer = lime_tabular.LimeTabularExplainer(train_dataset.X, \n",
    "                                              feature_names=feature_names, \n",
    "                                              categorical_features=feature_names,\n",
    "                                              class_names=['not toxic', 'toxic'], \n",
    "                                              discretize_continuous=True)"
   ]
  },
  {
   "cell_type": "markdown",
   "metadata": {
    "colab_type": "text",
    "id": "kAW-JA6jkP1_"
   },
   "source": [
    "我们将尝试解释为什么该模型预测一个分子对NR-AR有毒。\n",
    "具体的检测细节可以在[链接](https://pubchem.ncbi.nlm.nih.gov/bioassay/743040)中找到。"
   ]
  },
  {
   "cell_type": "code",
   "execution_count": null,
   "metadata": {
    "colab": {},
    "colab_type": "code",
    "id": "4Uu16LYakP2A"
   },
   "outputs": [],
   "source": [
    "# We need a function which takes a 2d numpy array (samples, features) and returns predictions (samples,)\n",
    "def eval_model(my_model):\n",
    "    def eval_closure(x):\n",
    "        ds = dc.data.NumpyDataset(x, n_tasks=12)\n",
    "        # The 0th task is NR-AR\n",
    "        predictions = my_model.predict(ds)[:,0]\n",
    "        return predictions\n",
    "    return eval_closure\n",
    "\n",
    "model_fn = eval_model(model)"
   ]
  },
  {
   "cell_type": "markdown",
   "metadata": {
    "colab_type": "text",
    "id": "WIIfzqzQkP2C"
   },
   "source": [
    "现在让我们尝试在一个特定的分子上使用这个评价函数。让我们在测试集中挑选第一个被正确预测为有毒的分子（也就是说，这个分子是有毒的，而且模型正确预测了它的毒性）。"
   ]
  },
  {
   "cell_type": "code",
   "execution_count": null,
   "metadata": {
    "colab": {
     "base_uri": "https://localhost:8080/",
     "height": 184
    },
    "colab_type": "code",
    "id": "VGPZDfmMkP2D",
    "outputId": "07894c04-793a-4f3e-90b3-f1e8e435bd69"
   },
   "outputs": [],
   "source": [
    "from rdkit import Chem\n",
    "active_id = np.where((test_dataset.y[:,0] == 1) * (model.predict(test_dataset)[:,0,1] > 0.8))[0][0]\n",
    "Chem.MolFromSmiles(test_dataset.ids[active_id])"
   ]
  },
  {
   "cell_type": "markdown",
   "metadata": {},
   "source": [
    "现在我们有了一个训练好的模型和一个分子，让我们要求 \"Explainer \"弄清楚为什么这个分子被预测为有毒。 我们要求它提供预测最灵敏的100个特征（即指纹中的元素，每个元素对应一个或多个片段）。"
   ]
  },
  {
   "cell_type": "code",
   "execution_count": null,
   "metadata": {
    "colab": {},
    "colab_type": "code",
    "id": "UJ3hePSwkP2F"
   },
   "outputs": [],
   "source": [
    "exp = explainer.explain_instance(test_dataset.X[active_id], model_fn, num_features=100, top_labels=1)"
   ]
  },
  {
   "cell_type": "markdown",
   "metadata": {},
   "source": [
    "返回的值是一个'Explanation'对象。 它有一些方法，你可以调用这些方法来检索各种形式的结果。 一个方便的交互式工作形式是'show_in_notebook()'，提供一个图形化的表示。"
   ]
  },
  {
   "cell_type": "code",
   "execution_count": null,
   "metadata": {
    "colab": {
     "base_uri": "https://localhost:8080/",
     "height": 188
    },
    "colab_type": "code",
    "id": "BPs0Txu4kP2H",
    "outputId": "3cec0071-6c18-4390-9443-052d41c4ab51"
   },
   "outputs": [],
   "source": [
    "exp.show_in_notebook(show_table=True, show_all=False)"
   ]
  },
  {
   "cell_type": "markdown",
   "metadata": {},
   "source": [
    "这个输出需要一些解释。 在左边，它显示这个分子被预测为有毒。 当然，我们已经知道这一点。 这就是我们选择它的原因。 在右边，它列出了指纹中对预测影响最大的100个元素。 对于每一个元素，其数值栏表示相应的片段在这个分子中是否存在（1.00）或不存在（0.00）。 而在中间，它显示了每个指数的值是否有助于预测为无毒（蓝色）或有毒（橙色）。\n",
    "\n",
    "大部分的片段都不存在。 它告诉我们的是那些片段，*如果*它们存在的话，会改变预测结果。 我们对这些并不感兴趣。 我们想知道分子中存在的、对预测有贡献的片段。 让我们试着把这些结果放到一个更有用的形式中。\n",
    "\n",
    "首先，指纹中的索引并不是很有信息量。 让我们写一个函数来逆转特征化，从索引映射回激活它们的片段。"
   ]
  },
  {
   "cell_type": "code",
   "execution_count": null,
   "metadata": {
    "colab": {
     "base_uri": "https://localhost:8080/",
     "height": 34
    },
    "colab_type": "code",
    "id": "4ja4_jCKkP2N",
    "outputId": "890b30b1-7b4f-4c7b-f840-146533a06614"
   },
   "outputs": [],
   "source": [
    "def fp_mol(mol, fp_length=1024):\n",
    "    \"\"\"\n",
    "    returns: dict of <int:list of string>\n",
    "        dictionary mapping fingerprint index\n",
    "        to list of SMILES strings that activated that fingerprint\n",
    "    \"\"\"\n",
    "    d = {}\n",
    "    feat = dc.feat.CircularFingerprint(sparse=True, smiles=True, size=1024)\n",
    "    retval = feat._featurize(mol)\n",
    "    for k, v in retval.items():\n",
    "        index = k % fp_length\n",
    "        if index not in d:\n",
    "            d[index] = set()\n",
    "        d[index].add(v['smiles'])\n",
    "    return d\n",
    "\n",
    "# What fragments activated what fingerprints in our active molecule?\n",
    "my_fragments = fp_mol(Chem.MolFromSmiles(test_dataset.ids[active_id]))"
   ]
  },
  {
   "cell_type": "markdown",
   "metadata": {},
   "source": [
    "现在我们想查询`Explanation'，看看这些片段中哪些对预测有贡献。 我们可以使用`as_map()`方法，以更适合处理的形式获得信息。"
   ]
  },
  {
   "cell_type": "code",
   "execution_count": null,
   "metadata": {},
   "outputs": [],
   "source": [
    "print(exp.as_map())"
   ]
  },
  {
   "cell_type": "markdown",
   "metadata": {},
   "source": [
    "这个地图中的键是标签，我们只有一个。 值是一个图元的列表，每个图元的形式是（fingerprint_index, weight）。 让我们把它转换为一个将指数映射为权重的字典。"
   ]
  },
  {
   "cell_type": "code",
   "execution_count": null,
   "metadata": {},
   "outputs": [],
   "source": [
    "fragment_weight = dict(exp.as_map()[1])"
   ]
  },
  {
   "cell_type": "markdown",
   "metadata": {},
   "source": [
    "我们知道哪些片段存在于我们感兴趣的分子中（`my_fragments`），我们也知道哪些片段对预测有贡献（`fragment_weights`）。 让我们把它们循环起来并打印出来。"
   ]
  },
  {
   "cell_type": "code",
   "execution_count": null,
   "metadata": {
    "colab": {
     "base_uri": "https://localhost:8080/",
     "height": 167
    },
    "colab_type": "code",
    "id": "PAe3ZOhUkP2Q",
    "outputId": "ca06c090-4379-4b79-f815-36464cf64323"
   },
   "outputs": [],
   "source": [
    "for index in my_fragments:\n",
    "    if index in fragment_weight:\n",
    "        print(index, my_fragments[index], fragment_weight[index])"
   ]
  },
  {
   "cell_type": "markdown",
   "metadata": {
    "colab_type": "text",
    "id": "fK7Sy_vJkP2S"
   },
   "source": [
    "这些就是对预测主要起作用的分子片段。"
   ]
  },
  {
   "cell_type": "markdown",
   "metadata": {
    "colab_type": "text",
    "id": "5kZkMHOBkP2i"
   },
   "source": [
    "# 恭喜！是时候加入社区了！\n",
    "\n",
    "恭喜您完成本教程笔记本！如果您喜欢本教程并希望继续使用 DeepChem，我们鼓励您完成本系列的其余教程。您还可以通过以下方式帮助 DeepChem 社区：\n",
    "\n",
    "## 在 [GitHub](https://github.com/deepchem/deepchem) 上为 DeepChem 点亮小星星\n",
    "这有助于大家建立对 DeepChem 项目和我们正在尝试构建的开源药物发现工具的共识。\n",
    "\n",
    "## 加入 DeepChem Gitter\n",
    "DeepChem [Gitter](https://gitter.im/deepchem/Lobby) 聚集了许多对生命科学深度学习感兴趣的科学家、开发人员和爱好者，欢迎加入！"
   ]
  }
 ],
 "metadata": {
  "accelerator": "GPU",
  "colab": {
   "name": "08_Introduction_to_Model_Interpretability.ipynb",
   "provenance": []
  },
  "kernelspec": {
   "display_name": "Python 3",
   "language": "python",
   "name": "python3"
  },
  "language_info": {
   "codemirror_mode": {
    "name": "ipython",
    "version": 3
   },
   "file_extension": ".py",
   "mimetype": "text/x-python",
   "name": "python",
   "nbconvert_exporter": "python",
   "pygments_lexer": "ipython3",
   "version": "3.7.6"
  }
 },
 "nbformat": 4,
 "nbformat_minor": 1
}