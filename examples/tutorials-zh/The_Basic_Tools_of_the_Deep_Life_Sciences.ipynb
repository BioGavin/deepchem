{
 "cells": [
  {
   "cell_type": "markdown",
   "metadata": {
    "id": "socSJe925zFv",
    "pycharm": {
     "name": "#%% md\n"
    }
   },
   "source": [
    "#  深度生命科学的基础工具\n",
    "欢迎来到 DeepChem 的深度生命科学入门教程，本系列教程将带您逐步了解在生命科学领域深度学习所需的新工具与新技术。假设您是机器学习和生命科学的新人，我们将从基础内容开始并介绍一系列工具和技术，您可以使用这些工具和技术在生命科学领域开展有意义的工作。\n",
    "\n",
    "**范围：** 本教程将涵盖构建深度生命科学系统所需的机器学习和数据处理。\n",
    "\n",
    "## Colab\n",
    "\n",
    "本教程和目录中的其余部分都是在 Google colab 中完成。如果您想在 colab 中打开此笔记本，您可以点击以下链接。\n",
    "\n",
    "[![Open In Colab](https://colab.research.google.com/assets/colab-badge.svg)](https://colab.research.google.com/github/BioGavin/deepchem/blob/master/examples/tutorials-zh/The_Basic_Tools_of_the_Deep_Life_Sciences.ipynb)\n",
    "\n",
    "\n",
    "## 为什么制作 DeepChem 教程？\n",
    "\n",
    "**1) 职业发展：** 在生命科学领域应用人工智能是目前蓬勃发展的行业，大型制药和生物技术公司有许多新资助的初创公司和以人工智能为中心的计划，学习和掌握 DeepChem 将带您走在该领域的最前沿，并为您进入该领域的职业做好准备。\n",
    "\n",
    "**2) 人道主义考虑：** 疾病是人类苦难最古老的原因，从人类文明诞生之日起，人类就饱受病原体、癌症和神经系统疾病的折磨。过去几个世纪最伟大的成就之一是开发了许多疾病的有效治疗方法，通过掌握本教程中的技能，您将能够站在过去巨人的肩膀上，帮助开发新药。\n",
    "\n",
    "**3）降低医疗成本：** 新药开发目前是一项精英技能，只能由一小部分专业从业者实践。通过促进用于药物发现的开源工具的发展，您可以帮助普及这些技能，使药物发现更具竞争性，竞争加剧有助于降低医药成本。\n",
    "\n",
    "## 获取额外信誉\n",
    "如果您对 DeepChem 感到很激动并且想更多地参与其中，您现在可以做一些事情：\n",
    "\n",
    "* 在 GitHub 为 DeepChem 点个小星星！ - https://github.com/deepchem/deepchem\n",
    "* 加入 DeepChem 论坛并介绍你自己！ - https://forum.deepchem.io\n",
    "* 在 DeepChem gitter 上打个招呼 - https://gitter.im/deepchem/Lobby\n",
    "* 为此笔记内容制作 YouTuBe 视频教程\n",
    "\n",
    "\n",
    "## 预备知识\n",
    "\n",
    "本系列教程将假设您对 Python 的数据科学生态系统有基础的了解，例如 Numpy、Pandas 和 TensorFlow 等 Python 库。如果您不是这方面的专家也不用担心，我们将对一些基础知识进行简单回顾。\n",
    "\n",
    "\n",
    "## 设置\n",
    "\n",
    "首先我们要启动并运行 DeepChem。我们推荐使用 Google Colab 来学习本系列教学，您可以运行以下命令在您的 colab 笔记本上安装 DeepChem。"
   ]
  },
  {
   "cell_type": "code",
   "execution_count": 1,
   "metadata": {
    "id": "CMWAv-Z46nCc"
   },
   "outputs": [
    {
     "name": "stdout",
     "output_type": "stream",
     "text": [
      "Looking in indexes: https://mirrors.aliyun.com/pypi/simple/\r\n",
      "Collecting deepchem\r\n",
      "  Downloading https://mirrors.aliyun.com/pypi/packages/9a/1c/8801ccff748a5b28e69b7ac08522dab5674036fa9d6f4f2ae689fc1e61bc/deepchem-2.6.1-py3-none-any.whl (608 kB)\r\n",
      "\u001B[K     |████████████████████████████████| 608 kB 1.1 MB/s eta 0:00:01\r\n",
      "\u001B[?25hRequirement already satisfied: scipy in /Users/zhouzhenyi/miniconda3/envs/pytorch/lib/python3.8/site-packages (from deepchem) (1.8.0)\r\n",
      "Requirement already satisfied: scikit-learn in /Users/zhouzhenyi/miniconda3/envs/pytorch/lib/python3.8/site-packages (from deepchem) (1.0.2)\r\n",
      "Requirement already satisfied: joblib in /Users/zhouzhenyi/miniconda3/envs/pytorch/lib/python3.8/site-packages (from deepchem) (1.1.0)\r\n",
      "Requirement already satisfied: numpy>=1.21 in /Users/zhouzhenyi/miniconda3/envs/pytorch/lib/python3.8/site-packages (from deepchem) (1.22.2)\r\n",
      "Requirement already satisfied: pandas in /Users/zhouzhenyi/miniconda3/envs/pytorch/lib/python3.8/site-packages (from deepchem) (1.4.1)\r\n",
      "Requirement already satisfied: rdkit-pypi in /Users/zhouzhenyi/miniconda3/envs/pytorch/lib/python3.8/site-packages (from deepchem) (2021.9.4)\r\n",
      "Requirement already satisfied: python-dateutil>=2.8.1 in /Users/zhouzhenyi/miniconda3/envs/pytorch/lib/python3.8/site-packages (from pandas->deepchem) (2.8.2)\r\n",
      "Requirement already satisfied: pytz>=2020.1 in /Users/zhouzhenyi/miniconda3/envs/pytorch/lib/python3.8/site-packages (from pandas->deepchem) (2021.3)\r\n",
      "Requirement already satisfied: six>=1.5 in /Users/zhouzhenyi/miniconda3/envs/pytorch/lib/python3.8/site-packages (from python-dateutil>=2.8.1->pandas->deepchem) (1.16.0)\r\n",
      "Requirement already satisfied: Pillow in /Users/zhouzhenyi/miniconda3/envs/pytorch/lib/python3.8/site-packages (from rdkit-pypi->deepchem) (9.0.1)\r\n",
      "Requirement already satisfied: threadpoolctl>=2.0.0 in /Users/zhouzhenyi/miniconda3/envs/pytorch/lib/python3.8/site-packages (from scikit-learn->deepchem) (3.1.0)\r\n",
      "Installing collected packages: deepchem\r\n",
      "Successfully installed deepchem-2.6.1\r\n"
     ]
    }
   ],
   "source": [
    "!pip install --pre deepchem"
   ]
  },
  {
   "cell_type": "markdown",
   "metadata": {
    "id": "Jk47QTZ95zF-"
   },
   "source": [
    "如果您愿意的话当然可以在本地运行此教程，在这种情况下，不要运行上述命令，因为它会在您的本地计算机上下载并安装 Anaconda。无论哪种情况，我们现在都可以导入 `deepchem` 包来使用。"
   ]
  },
  {
   "cell_type": "code",
   "execution_count": 1,
   "metadata": {
    "colab": {
     "base_uri": "https://localhost:8080/",
     "height": 35
    },
    "id": "PDiY03h35zF_",
    "outputId": "e3b7af38-f298-4161-db16-afbd3d4078c9"
   },
   "outputs": [
    {
     "data": {
      "text/plain": "'2.6.1.dev'"
     },
     "execution_count": 1,
     "metadata": {},
     "output_type": "execute_result"
    }
   ],
   "source": [
    "import deepchem as dc\n",
    "dc.__version__"
   ]
  },
  {
   "cell_type": "markdown",
   "metadata": {
    "id": "B0u7qIZd5zGG"
   },
   "source": [
    "# 使用 DeepChem 训练一个模型：第一个示例\n",
    "\n",
    "深度学习可用于解决多种问题，但基本工作流程通常是相同的。以下是您遵循的典型步骤。\n",
    "\n",
    "\n",
    "1. 选择您将训练模型的数据集（或者创建一个新数据集，如果没有合适的现有数据集的话）\n",
    "2. 创建模型\n",
    "3. 在数据上训练模型\n",
    "4. 在独立的测试数据集上验证模型的效果\n",
    "5. 使用模型对新数据新型预测\n",
    "\n",
    "\n",
    "使用 DeepChem ，上面的每一步都可以用一两行的 Python 代码实现。在本教程中，我们将通过一个基本示例展示解决现实世界科学问题的完整工作流程。\n",
    "\n",
    "这里我们要解决的问题是根据化学式预测小分子的溶解度。这是药物开发中一个非常重要的特性，如果药物的溶解度不够，它可能无法充分进入患者的血液以产生治疗效果。我们需要的第一件事是真实分子的测量溶解度数据集，DeepChem 的核心组件之一 MoleculeNet，它是化学和分子数据集的多样化集合。对于本教程，我们可以使用 Delaney 溶解度数据集，该数据集中的溶解度特性以对数（溶解度）呈现，其中溶解度以摩尔/升为单位。"
   ]
  },
  {
   "cell_type": "code",
   "execution_count": 2,
   "metadata": {
    "id": "saTaOpXY5zGI"
   },
   "outputs": [],
   "source": [
    "tasks, datasets, transformers = dc.molnet.load_delaney(featurizer='GraphConv')\n",
    "train_dataset, valid_dataset, test_dataset = datasets"
   ]
  },
  {
   "cell_type": "markdown",
   "metadata": {
    "id": "F922OPtL5zGM"
   },
   "source": [
    "我们暂时不对这些代码做详细解释，我们将在之后的教程中看到很多相似的例子，这里有两点细节需要注意。第一点，传递给 `load_delaney()` 函数的 `featurizer` 参数，分子可以被很多种方式表征，这里我们告诉它该用哪种方式表征，或者用更专业的语言来说就是如何\"特征化\"数据。第二点，注意我们获取了三个不同的数据集：一个训练数据集、一个验证数据集、一个测试数据集，每个数据集在标准的深度学习流程中有着不同的作用。\n",
    "\n",
    "现在我们有了数据，下一步就要创建模型了，我们将使用一种特殊的模型，称为\"图卷积网络\"（graph convolutional network），或简称为\"图卷积\"（graphconv）。"
   ]
  },
  {
   "cell_type": "code",
   "execution_count": 3,
   "metadata": {
    "id": "YEDcUsz35zGO"
   },
   "outputs": [
    {
     "ename": "AttributeError",
     "evalue": "module 'deepchem.models' has no attribute 'GraphConvModel'",
     "output_type": "error",
     "traceback": [
      "\u001B[0;31m---------------------------------------------------------------------------\u001B[0m",
      "\u001B[0;31mAttributeError\u001B[0m                            Traceback (most recent call last)",
      "Input \u001B[0;32mIn [3]\u001B[0m, in \u001B[0;36m<module>\u001B[0;34m\u001B[0m\n\u001B[0;32m----> 1\u001B[0m model \u001B[38;5;241m=\u001B[39m \u001B[43mdc\u001B[49m\u001B[38;5;241;43m.\u001B[39;49m\u001B[43mmodels\u001B[49m\u001B[38;5;241;43m.\u001B[39;49m\u001B[43mGraphConvModel\u001B[49m(n_tasks\u001B[38;5;241m=\u001B[39m\u001B[38;5;241m1\u001B[39m, mode\u001B[38;5;241m=\u001B[39m\u001B[38;5;124m'\u001B[39m\u001B[38;5;124mregression\u001B[39m\u001B[38;5;124m'\u001B[39m, dropout\u001B[38;5;241m=\u001B[39m\u001B[38;5;241m0.2\u001B[39m)\n",
      "\u001B[0;31mAttributeError\u001B[0m: module 'deepchem.models' has no attribute 'GraphConvModel'"
     ]
    }
   ],
   "source": [
    "model = dc.models.GraphConvModel(n_tasks=1, mode='regression', dropout=0.2)"
   ]
  },
  {
   "cell_type": "markdown",
   "metadata": {
    "id": "E8UCFrrN5zGf"
   },
   "source": [
    "我先不对代码做过多解释，后面的内容将告诉你更多关于 `GraphConvModel` 的信息以及 DeepChem 提供的其他模型。\n",
    "\n",
    "我们现在需要在数据集上训练模型，我们只需给它数据集并告诉它要执行多少次（epoch）训练（即要完成多少次完整的数据传递）。"
   ]
  },
  {
   "cell_type": "code",
   "execution_count": null,
   "metadata": {
    "id": "e5K3rdGV5zGg"
   },
   "outputs": [],
   "source": [
    "model.fit(train_dataset, nb_epoch=100)"
   ]
  },
  {
   "cell_type": "markdown",
   "metadata": {
    "id": "_Zcd7jTd5zGr"
   },
   "source": [
    "如果一切顺利，我们现在应该有一个经过全面训练的模型！但是我们确实完成了吗？要找出答案，我们必须在测试集上评估模型。我们通过选择评估指标并在模型上调用 `evaluate()` 函数来做到这一点。对于此示例，让我们使用 Pearson 相关性（也称为 r<sup>2</sup>）作为我们的指标，我们可以在训练集和测试集上对其进行评估。"
   ]
  },
  {
   "cell_type": "code",
   "execution_count": null,
   "metadata": {
    "colab": {
     "base_uri": "https://localhost:8080/"
    },
    "id": "LJc90fs_5zGs",
    "outputId": "770a8b76-1a7c-48a1-952e-1ae0343541c4"
   },
   "outputs": [
    {
     "name": "stdout",
     "output_type": "stream",
     "text": [
      "Training set score: {'pearson_r2_score': 0.9323622956442351}\n",
      "Test set score: {'pearson_r2_score': 0.6898768897014962}\n"
     ]
    }
   ],
   "source": [
    "metric = dc.metrics.Metric(dc.metrics.pearson_r2_score)\n",
    "print(\"Training set score:\", model.evaluate(train_dataset, [metric], transformers))\n",
    "print(\"Test set score:\", model.evaluate(test_dataset, [metric], transformers))"
   ]
  },
  {
   "cell_type": "markdown",
   "metadata": {
    "id": "aQa88cbj5zGw"
   },
   "source": [
    "请注意，它在训练集上的得分高于测试集。模型通常在他们训练的特定数据上比在类似但独立的数据上表现更好，这被称为“过度拟合”，这就是必须在独立测试集上评估模型的原因。\n",
    "\n",
    "我们的模型在测试集上仍然有相当可观的表现。作为比较，产生完全随机输出的模型的相关性为0，而做出完美预测的模型的相关性为1。我们的模型做得很好，所以现在我们可以用它来预测我们关心的其他分子。\n",
    "\n",
    "由于这只是一个教程，我们没有任何其他我们特别想预测的分子，所以我们使用测试集中的前十个分子进行预测。对于每一个分子，我们打印出化学结构（表示为 SMILES 字符串）和预测的对数（溶解度）。为了将这些预测放在上下文中，我们也打印出测试集中的对数（溶解度）值。"
   ]
  },
  {
   "cell_type": "code",
   "execution_count": null,
   "metadata": {
    "colab": {
     "base_uri": "https://localhost:8080/"
    },
    "id": "HSVqeYox5zGx",
    "outputId": "f2218dfc-e100-4950-9b09-5ff0be493cfa"
   },
   "outputs": [
    {
     "name": "stdout",
     "output_type": "stream",
     "text": [
      "[-1.8629359] [-1.60114461] c1cc2ccc3cccc4ccc(c1)c2c34\n",
      "[0.6617248] [0.20848251] Cc1cc(=O)[nH]c(=S)[nH]1\n",
      "[-0.5705674] [-0.01602738] Oc1ccc(cc1)C2(OC(=O)c3ccccc23)c4ccc(O)cc4 \n",
      "[-2.0929456] [-2.82191713] c1ccc2c(c1)cc3ccc4cccc5ccc2c3c45\n",
      "[-1.4962314] [-0.52891635] C1=Cc2cccc3cccc1c23\n",
      "[1.8620405] [1.10168349] CC1CO1\n",
      "[-0.5858227] [-0.88987406] CCN2c1ccccc1N(C)C(=S)c3cccnc23 \n",
      "[-0.9799993] [-0.52649706] CC12CCC3C(CCc4cc(O)ccc34)C2CCC1=O\n",
      "[-1.0176951] [-0.76358725] Cn2cc(c1ccccc1)c(=O)c(c2)c3cccc(c3)C(F)(F)F\n",
      "[0.05622783] [-0.64020358] ClC(Cl)(Cl)C(NC=O)N1C=CN(C=C1)C(NC=O)C(Cl)(Cl)Cl \n"
     ]
    }
   ],
   "source": [
    "solubilities = model.predict_on_batch(test_dataset.X[:10])\n",
    "for molecule, solubility, test_solubility in zip(test_dataset.ids, solubilities, test_dataset.y):\n",
    "    print(solubility, test_solubility, molecule)"
   ]
  },
  {
   "cell_type": "markdown",
   "metadata": {
    "id": "MhZxVoVs5zMa"
   },
   "source": [
    "# 恭喜！是时候加入社区了！\n",
    "\n",
    "恭喜您完成本教程笔记本！如果您喜欢本教程并希望继续使用 DeepChem，我们鼓励您完成本系列的其余教程。您还可以通过以下方式帮助 DeepChem 社区：\n",
    "\n",
    "## 在 [GitHub](https://github.com/deepchem/deepchem) 上为 DeepChem 点亮小星星\n",
    "这有助于大家建立对 DeepChem 项目和我们正在尝试构建的开源药物发现工具的共识。\n",
    "\n",
    "## 加入 DeepChem Gitter\n",
    "DeepChem [Gitter](https://gitter.im/deepchem/Lobby) 聚集了许多对生命科学深度学习感兴趣的科学家、开发人员和爱好者，欢迎加入！"
   ]
  }
 ],
 "metadata": {
  "colab": {
   "name": "Copy of 01_The_Basic_Tools_of_the_Deep_Life_Sciences.ipynb",
   "provenance": []
  },
  "kernelspec": {
   "display_name": "Python 3 (ipykernel)",
   "language": "python",
   "name": "python3"
  },
  "language_info": {
   "codemirror_mode": {
    "name": "ipython",
    "version": 3
   },
   "file_extension": ".py",
   "mimetype": "text/x-python",
   "name": "python",
   "nbconvert_exporter": "python",
   "pygments_lexer": "ipython3",
   "version": "3.7.10"
  }
 },
 "nbformat": 4,
 "nbformat_minor": 1
}