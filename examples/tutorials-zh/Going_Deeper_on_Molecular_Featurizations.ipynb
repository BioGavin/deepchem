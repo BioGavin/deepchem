{
 "cells": [
  {
   "cell_type": "markdown",
   "metadata": {
    "colab_type": "text",
    "id": "tTuYGOlnh117"
   },
   "source": [
    "#  深度分子特征\n",
    "\n",
    "在分子数据上进行机器学习的最重要步骤之一是将数据转化为适合的可应用于机器学习算法的形式。这个过程统称为 \"特征化\"，包括将分子变成某种向量或张量。有许多不同的方法可以做到这一点，而选择什么样的特征化往往取决于手头的问题。我们已经看到了两种方法：分子指纹和用于图形卷积的 `ConvMol` 对象。在本教程中，我们将看一下其他一些方法。\n",
    "\n",
    "## Colab\n",
    "\n",
    "本教程和目录中的其余部分都是在 Google colab 中完成。如果您想在 colab 中打开此笔记本，您可以点击以下链接。\n",
    "\n",
    "[![Open In Colab](https://colab.research.google.com/assets/colab-badge.svg)](https://colab.research.google.com/github/BioGavin/deepchem/blob/master/examples/tutorials-zh/Going_Deeper_on_Molecular_Featurizations.ipynb)\n",
    "\n"
   ]
  },
  {
   "cell_type": "code",
   "execution_count": null,
   "metadata": {
    "colab": {
     "base_uri": "https://localhost:8080/",
     "height": 188
    },
    "colab_type": "code",
    "id": "D43MbibL_EK0",
    "outputId": "e7b205ae-9962-4089-d49a-6d0ebe4c8430"
   },
   "outputs": [],
   "source": [
    "!pip install --pre deepchem\n",
    "import deepchem\n",
    "deepchem.__version__"
   ]
  },
  {
   "cell_type": "markdown",
   "metadata": {
    "colab_type": "text",
    "id": "omxBgQVDh12B"
   },
   "source": [
    "## 特征器\n",
    "\n",
    "在 DeepChem 中，一个分子（或任何其他类型的输入）的特征化方法是由一个 `Featurizer` 对象定义的。有三种不同的方式使用特征器。\n",
    "\n",
    "1. 在使用 MoleculeNet 加载器函数时，你只需传递要使用的特征化方法的名称。我们在以前的教程中看到过这样的例子，比如 `featurizer='ECFP'` 或 `featurizer='GraphConv'`。\n",
    "\n",
    "2. 你也可以创建一个 Featurizer 并直接应用于分子。比如说："
   ]
  },
  {
   "cell_type": "code",
   "execution_count": 1,
   "metadata": {
    "colab": {},
    "colab_type": "code",
    "id": "Sp5Hbb4nh12C"
   },
   "outputs": [
    {
     "name": "stdout",
     "output_type": "stream",
     "text": [
      "[[0. 0. 0. ... 0. 0. 0.]\n",
      " [0. 0. 0. ... 0. 0. 0.]\n",
      " [0. 0. 0. ... 0. 0. 0.]]\n"
     ]
    }
   ],
   "source": [
    "import deepchem as dc\n",
    "\n",
    "featurizer = dc.feat.CircularFingerprint()\n",
    "print(featurizer(['CC', 'CCC', 'CCO']))"
   ]
  },
  {
   "cell_type": "markdown",
   "metadata": {
    "colab_type": "text",
    "id": "_bC1mPM4h12F"
   },
   "source": [
    "3. 当用 DataLoader 框架创建一个新的数据集时，你可以指定一个用于处理数据的 Featurizer 。我们将在未来的教程中看到这一点。\n",
    "\n",
    "在本教程中，我们使用丙烷（CH<sub>3</sub>CH<sub>2</sub>CH<sub>3</sub>，SMILES字符串表示为 `'CCC'` ）作为一个运行实例。许多特征化方法使用了分子的构象，使用 `deepchem.utils.conformers` 中的 `ConformerGenerator` 类可以生成构象。"
   ]
  },
  {
   "cell_type": "markdown",
   "metadata": {
    "colab_type": "text",
    "id": "4D9z0slLh12G"
   },
   "source": [
    "### RDKitDescriptors"
   ]
  },
  {
   "cell_type": "markdown",
   "metadata": {
    "colab_type": "text",
    "id": "oCfATWYIh12H"
   },
   "source": [
    "`RDKitDescriptors` 通过使用 RDKit 来计算描述符列表的值，从而对分子进行描述。这些是基本的物理和化学属性：分子量、极性表面积、氢键供体和受体的数量等等。这对于预测取决于这些高级属性而不是详细的分子结构的事物是最有用的。\n",
    "\n",
    "featurizer 内部的是一组可以使用 `RDKitDescriptors.allowedDescriptors` 获取的分子描述符。featurizer 使用 `rdkit.Chem.Descriptors.descList` 中的描述符，检查它们是否在允许的描述符列表中，并计算出分子的描述符值。\n",
    "\n",
    "让我们打印丙烷的前十个描述符的值。"
   ]
  },
  {
   "cell_type": "code",
   "execution_count": 2,
   "metadata": {
    "colab": {
     "base_uri": "https://localhost:8080/",
     "height": 1000
    },
    "colab_type": "code",
    "id": "3dt_vjtXh12N",
    "outputId": "c6f73232-0765-479c-93b0-ba18cbf6f33a"
   },
   "outputs": [
    {
     "name": "stdout",
     "output_type": "stream",
     "text": [
      "MaxEStateIndex 2.125\n",
      "MinEStateIndex 1.25\n",
      "MaxAbsEStateIndex 2.125\n",
      "MinAbsEStateIndex 1.25\n",
      "qed 0.3854706587740357\n",
      "MolWt 44.097\n",
      "HeavyAtomMolWt 36.033\n",
      "ExactMolWt 44.062600255999996\n",
      "NumValenceElectrons 20.0\n",
      "NumRadicalElectrons 0.0\n"
     ]
    }
   ],
   "source": [
    "rdkit_featurizer = dc.feat.RDKitDescriptors()\n",
    "features = rdkit_featurizer(['CCC'])[0]\n",
    "for feature, descriptor in zip(features[:10], rdkit_featurizer.descriptors):\n",
    "    print(descriptor, feature)"
   ]
  },
  {
   "cell_type": "markdown",
   "metadata": {},
   "source": [
    "当然，还有许多比这更多的描述符。"
   ]
  },
  {
   "cell_type": "code",
   "execution_count": 3,
   "metadata": {
    "colab": {
     "base_uri": "https://localhost:8080/",
     "height": 34
    },
    "colab_type": "code",
    "id": "KfyDpE81h12Q",
    "outputId": "46673131-c504-48ca-db35-5d689e218069"
   },
   "outputs": [
    {
     "name": "stdout",
     "output_type": "stream",
     "text": [
      "The number of descriptors present is:  200\n"
     ]
    }
   ],
   "source": [
    "print('The number of descriptors present is: ', len(features))"
   ]
  },
  {
   "cell_type": "markdown",
   "metadata": {
    "colab_type": "text",
    "id": "41RwzbTth12U"
   },
   "source": [
    "### WeaveFeaturizer 和 MolGraphConvFeaturizer\n",
    "\n",
    "我们之前研究了图卷积，它使用 `ConvMolFeaturizer` 将分子转换成 `ConvMol` 对象。图卷积是一大类架构的一个特例，它将分子表示为图形。它们以类似的方式工作，但在细节上有所不同。例如，它们可以将数据向量与原子、连接它们的键或两者联系起来，它们可以使用各种技术从上一层的数据向量中计算出新的数据向量，并在最后计算出分子水平的属性。\n",
    "\n",
    "DeepChem 支持许多不同的基于图形的模型。它们中有一些需要以稍微不同的方式对分子进行特征化。正因为如此，还有 \"WeaveFeaturizer\" 和 \"MolGraphConvFeaturizer\" 特征器。它们各自将分子转换成不同类型的 Python 对象，供特定模型使用。当使用任何基于图形的模型时，只需查看文档，看看你需要使用哪种 featurizer。"
   ]
  },
  {
   "cell_type": "markdown",
   "metadata": {
    "colab_type": "text",
    "id": "SF3l5yJ4h12f"
   },
   "source": [
    "### CoulombMatrix\n",
    "\n",
    "到目前为止，我们所看到的所有模型都只考虑了分子的内在属性：组成分子的原子列表和连接它们的键。在处理柔性分子时，你可能还想考虑分子可能采取的不同构象。例如，当一个药物分子与一个蛋白质结合时，结合的强度取决于原子对之间的特定相互作用。为了预测结合强度，你可能要考虑各种可能的构象，并在预测时使用一个考虑到这些构象的模型。\n",
    "\n",
    "库仑矩阵是分子构象的一个流行特征。回顾一下，两个电荷之间的静电库仑作用与 $q_1 q_2/r$ 成正比，其中 $q_1$ 和 $q_2$ 是电荷，$r$ 是它们之间的距离。对于有 N 个原子的分子，库仑矩阵是一个$N \\times N$ 的矩阵，其中每个元素都给出了两个原子之间静电作用的强度，包含关于原子上的电荷和它们之间的距离的信息。关于所使用的函数形式的更多信息可以在[这里](https://journals.aps.org/prl/pdf/10.1103/PhysRevLett.108.058301)找到。\n",
    "\n",
    "为了应用这个 featurizer，我们首先需要一组分子的构象。我们可以使用 `ConformerGenerator` 类来完成这个任务。它需要一个 RDKit 分子，生成一组能量最小化的构象，并对这组构象进行修剪，只包括那些彼此之间有显著差异的构象。让我们试着对丙烷运行它。"
   ]
  },
  {
   "cell_type": "code",
   "execution_count": 4,
   "metadata": {
    "colab": {
     "base_uri": "https://localhost:8080/",
     "height": 34
    },
    "colab_type": "code",
    "id": "evLPEI6mh12g",
    "outputId": "c0895d51-a38d-494e-d161-31ce5c421fb3"
   },
   "outputs": [
    {
     "name": "stdout",
     "output_type": "stream",
     "text": [
      "Number of available conformers for propane:  1\n"
     ]
    }
   ],
   "source": [
    "from rdkit import Chem\n",
    "\n",
    "generator = dc.utils.ConformerGenerator(max_conformers=5)\n",
    "propane_mol = generator.generate_conformers(Chem.MolFromSmiles('CCC'))\n",
    "print(\"Number of available conformers for propane: \", len(propane_mol.GetConformers()))"
   ]
  },
  {
   "cell_type": "markdown",
   "metadata": {},
   "source": [
    "它只发现了一个单一的构象体，这并不令人惊讶，因为丙烷是一个非常小的分子，几乎没有任何灵活性。让我们尝试添加另一个碳。"
   ]
  },
  {
   "cell_type": "code",
   "execution_count": 5,
   "metadata": {},
   "outputs": [
    {
     "name": "stdout",
     "output_type": "stream",
     "text": [
      "Number of available conformers for butane:  3\n"
     ]
    }
   ],
   "source": [
    "butane_mol = generator.generate_conformers(Chem.MolFromSmiles('CCCC'))\n",
    "print(\"Number of available conformers for butane: \", len(butane_mol.GetConformers()))"
   ]
  },
  {
   "cell_type": "markdown",
   "metadata": {},
   "source": [
    "现在我们可以为我们的分子创建一个库伦矩阵。"
   ]
  },
  {
   "cell_type": "code",
   "execution_count": 6,
   "metadata": {
    "colab": {
     "base_uri": "https://localhost:8080/",
     "height": 51
    },
    "colab_type": "code",
    "id": "pPIqy39Ih12i",
    "outputId": "ca7b18b3-cfa4-44e8-a907-cbffd4e65364"
   },
   "outputs": [
    {
     "name": "stdout",
     "output_type": "stream",
     "text": [
      "[[[36.8581052  12.48684429  7.5619687   2.85945193  2.85804514\n",
      "    2.85804556  1.4674015   1.46740144  0.91279491  1.14239698\n",
      "    1.14239675  0.          0.          0.          0.\n",
      "    0.          0.          0.          0.          0.        ]\n",
      "  [12.48684429 36.8581052  12.48684388  1.46551218  1.45850736\n",
      "    1.45850732  2.85689525  2.85689538  1.4655122   1.4585072\n",
      "    1.4585072   0.          0.          0.          0.\n",
      "    0.          0.          0.          0.          0.        ]\n",
      "  [ 7.5619687  12.48684388 36.8581052   0.9127949   1.14239695\n",
      "    1.14239692  1.46740146  1.46740145  2.85945178  2.85804504\n",
      "    2.85804493  0.          0.          0.          0.\n",
      "    0.          0.          0.          0.          0.        ]\n",
      "  [ 2.85945193  1.46551218  0.9127949   0.5         0.29325367\n",
      "    0.29325369  0.21256978  0.21256978  0.12268391  0.13960187\n",
      "    0.13960185  0.          0.          0.          0.\n",
      "    0.          0.          0.          0.          0.        ]\n",
      "  [ 2.85804514  1.45850736  1.14239695  0.29325367  0.5\n",
      "    0.29200271  0.17113413  0.21092513  0.13960186  0.1680002\n",
      "    0.20540029  0.          0.          0.          0.\n",
      "    0.          0.          0.          0.          0.        ]\n",
      "  [ 2.85804556  1.45850732  1.14239692  0.29325369  0.29200271\n",
      "    0.5         0.21092513  0.17113413  0.13960187  0.20540032\n",
      "    0.16800016  0.          0.          0.          0.\n",
      "    0.          0.          0.          0.          0.        ]\n",
      "  [ 1.4674015   2.85689525  1.46740146  0.21256978  0.17113413\n",
      "    0.21092513  0.5         0.29351308  0.21256981  0.2109251\n",
      "    0.17113412  0.          0.          0.          0.\n",
      "    0.          0.          0.          0.          0.        ]\n",
      "  [ 1.46740144  2.85689538  1.46740145  0.21256978  0.21092513\n",
      "    0.17113413  0.29351308  0.5         0.21256977  0.17113412\n",
      "    0.21092513  0.          0.          0.          0.\n",
      "    0.          0.          0.          0.          0.        ]\n",
      "  [ 0.91279491  1.4655122   2.85945178  0.12268391  0.13960186\n",
      "    0.13960187  0.21256981  0.21256977  0.5         0.29325366\n",
      "    0.29325365  0.          0.          0.          0.\n",
      "    0.          0.          0.          0.          0.        ]\n",
      "  [ 1.14239698  1.4585072   2.85804504  0.13960187  0.1680002\n",
      "    0.20540032  0.2109251   0.17113412  0.29325366  0.5\n",
      "    0.29200266  0.          0.          0.          0.\n",
      "    0.          0.          0.          0.          0.        ]\n",
      "  [ 1.14239675  1.4585072   2.85804493  0.13960185  0.20540029\n",
      "    0.16800016  0.17113412  0.21092513  0.29325365  0.29200266\n",
      "    0.5         0.          0.          0.          0.\n",
      "    0.          0.          0.          0.          0.        ]\n",
      "  [ 0.          0.          0.          0.          0.\n",
      "    0.          0.          0.          0.          0.\n",
      "    0.          0.          0.          0.          0.\n",
      "    0.          0.          0.          0.          0.        ]\n",
      "  [ 0.          0.          0.          0.          0.\n",
      "    0.          0.          0.          0.          0.\n",
      "    0.          0.          0.          0.          0.\n",
      "    0.          0.          0.          0.          0.        ]\n",
      "  [ 0.          0.          0.          0.          0.\n",
      "    0.          0.          0.          0.          0.\n",
      "    0.          0.          0.          0.          0.\n",
      "    0.          0.          0.          0.          0.        ]\n",
      "  [ 0.          0.          0.          0.          0.\n",
      "    0.          0.          0.          0.          0.\n",
      "    0.          0.          0.          0.          0.\n",
      "    0.          0.          0.          0.          0.        ]\n",
      "  [ 0.          0.          0.          0.          0.\n",
      "    0.          0.          0.          0.          0.\n",
      "    0.          0.          0.          0.          0.\n",
      "    0.          0.          0.          0.          0.        ]\n",
      "  [ 0.          0.          0.          0.          0.\n",
      "    0.          0.          0.          0.          0.\n",
      "    0.          0.          0.          0.          0.\n",
      "    0.          0.          0.          0.          0.        ]\n",
      "  [ 0.          0.          0.          0.          0.\n",
      "    0.          0.          0.          0.          0.\n",
      "    0.          0.          0.          0.          0.\n",
      "    0.          0.          0.          0.          0.        ]\n",
      "  [ 0.          0.          0.          0.          0.\n",
      "    0.          0.          0.          0.          0.\n",
      "    0.          0.          0.          0.          0.\n",
      "    0.          0.          0.          0.          0.        ]\n",
      "  [ 0.          0.          0.          0.          0.\n",
      "    0.          0.          0.          0.          0.\n",
      "    0.          0.          0.          0.          0.\n",
      "    0.          0.          0.          0.          0.        ]]]\n"
     ]
    },
    {
     "name": "stderr",
     "output_type": "stream",
     "text": [
      "/Users/peastman/workspace/deepchem/deepchem/feat/molecule_featurizers/coulomb_matrices.py:141: RuntimeWarning: divide by zero encountered in true_divide\n",
      "  m = np.outer(z, z) / d\n"
     ]
    }
   ],
   "source": [
    "coulomb_mat = dc.feat.CoulombMatrix(max_atoms=20)\n",
    "features = coulomb_mat(propane_mol)\n",
    "print(features)"
   ]
  },
  {
   "cell_type": "markdown",
   "metadata": {
    "colab_type": "text",
    "id": "Uyq3Xk3sh12l"
   },
   "source": [
    "注意，很多元素都是0。为了在一个批次中组合多个分子，我们需要所有库仑矩阵的大小相同，即使分子的原子数不同。我们指定了 `max_atoms=20`，所以返回的矩阵大小为（20，20）。 该分子只有11个原子，所以只有11乘11的子矩阵是非零的。"
   ]
  },
  {
   "cell_type": "markdown",
   "metadata": {
    "colab_type": "text",
    "id": "P-sGs7W2h12p"
   },
   "source": [
    "### CoulombMatrixEig"
   ]
  },
  {
   "cell_type": "markdown",
   "metadata": {
    "colab_type": "text",
    "id": "9NTjtDUzh12p"
   },
   "source": [
    "库仑矩阵的一个重要特点是，它们对分子旋转和平移是不变的，因为原子间距离和原子序数不会改变，尊重这样的对称性使学习更容易。旋转一个分子不会改变其物理特性，如果特征化确实改变了，那么模型就会被迫学习旋转并不重要，但如果特征化是不变的，那么模型就会自动得到这个属性。\n",
    "\n",
    "库仑矩阵在另一个重要的对称性下不是不变的：原子指数的排列组合。一个分子的物理属性并不取决于我们称之为 \"原子1\" 的原子，但库仑矩阵却取决于它。为了解决这个问题，引入了 `CoulumbMatrixEig` 特征化工具，它使用库伦矩阵的特征值谱，对原子指数的随机排列是不变的。这种特征化的缺点是它所包含的信息要少得多（ $N$ 个特征值，而不是一个 $N/times N$ 的矩阵），所以模型所能学到的东西将受到更大的限制。\n",
    "\n",
    "`CoulombMatrixEig` 继承自 `CoulombMatrix`，首先通过计算分子的不同构象的库仑矩阵，然后计算每个库仑矩阵的特征值，来实现分子的特征化。然后，这些特征值被填充，以考虑到不同分子的原子数量的变化。\n"
   ]
  },
  {
   "cell_type": "code",
   "execution_count": 7,
   "metadata": {
    "colab": {
     "base_uri": "https://localhost:8080/",
     "height": 51
    },
    "colab_type": "code",
    "id": "ga1-nNiWh12t",
    "outputId": "2df3163c-6808-49e6-dba8-282ddd7fa3c4"
   },
   "outputs": [
    {
     "name": "stdout",
     "output_type": "stream",
     "text": [
      "[[60.07620303 29.62963149 22.75497781  0.5713786   0.28781332  0.28548338\n",
      "   0.27558187  0.18163794  0.17460999  0.17059719  0.16640098  0.\n",
      "   0.          0.          0.          0.          0.          0.\n",
      "   0.          0.        ]]\n"
     ]
    }
   ],
   "source": [
    "coulomb_mat_eig = dc.feat.CoulombMatrixEig(max_atoms=20)\n",
    "features = coulomb_mat_eig(propane_mol)\n",
    "print(features)"
   ]
  },
  {
   "cell_type": "markdown",
   "metadata": {
    "colab_type": "text",
    "id": "wssi6cBmh12z"
   },
   "source": [
    "# 恭喜！是时候加入社区了！\n",
    "\n",
    "恭喜您完成本教程笔记本！如果您喜欢本教程并希望继续使用 DeepChem，我们鼓励您完成本系列的其余教程。您还可以通过以下方式帮助 DeepChem 社区：\n",
    "\n",
    "## 在 [GitHub](https://github.com/deepchem/deepchem) 上为 DeepChem 点亮小星星\n",
    "这有助于大家建立对 DeepChem 项目和我们正在尝试构建的开源药物发现工具的共识。\n",
    "\n",
    "## 加入 DeepChem Gitter\n",
    "DeepChem [Gitter](https://gitter.im/deepchem/Lobby) 聚集了许多对生命科学深度学习感兴趣的科学家、开发人员和爱好者，欢迎加入！"
   ]
  }
 ],
 "metadata": {
  "colab": {
   "name": "06_Going_Deeper_on_Molecular_Featurizations.ipynb",
   "provenance": []
  },
  "kernelspec": {
   "display_name": "Python 3",
   "language": "python",
   "name": "python3"
  },
  "language_info": {
   "codemirror_mode": {
    "name": "ipython",
    "version": 3
   },
   "file_extension": ".py",
   "mimetype": "text/x-python",
   "name": "python",
   "nbconvert_exporter": "python",
   "pygments_lexer": "ipython3",
   "version": "3.7.6"
  }
 },
 "nbformat": 4,
 "nbformat_minor": 1
}